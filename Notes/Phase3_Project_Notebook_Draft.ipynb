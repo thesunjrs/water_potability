{
 "cells": [
  {
   "cell_type": "markdown",
   "metadata": {},
   "source": [
    "# Project Outline - Water Quality"
   ]
  },
  {
   "cell_type": "markdown",
   "metadata": {},
   "source": [
    "- Water Quality Dataset from Kaggel - https://www.kaggle.com/adityakadiwal/water-potability\n",
    "\n",
    "- Predicting podability based on existing features without potability feature\n",
    "\n",
    "- Testing our predictions on original database potability feature\n",
    "\n",
    "- Create a feature that is MORE then binary for potability"
   ]
  },
  {
   "cell_type": "code",
   "execution_count": 1,
   "metadata": {},
   "outputs": [],
   "source": [
    "import pandas            as pd\n",
    "import numpy             as np\n",
    "import matplotlib.pyplot as plt\n",
    "import seaborn           as sns\n",
    "import pydotplus\n",
    "import ds_models\n",
    "\n",
    "from six             import StringIO\n",
    "from IPython.display import Image\n",
    "\n",
    "from sklearn.feature_extraction.text import CountVectorizer\n",
    "from sklearn.pipeline                import Pipeline\n",
    "from sklearn.impute                  import SimpleImputer\n",
    "from sklearn.preprocessing           import StandardScaler, OneHotEncoder, normalize\n",
    "from sklearn.model_selection         import train_test_split, cross_val_score, GridSearchCV\n",
    "from sklearn.metrics                 import mean_squared_error, mean_squared_log_error, accuracy_score\n",
    "from sklearn.metrics                 import plot_confusion_matrix, classification_report\n",
    "\n",
    "from sklearn.linear_model import LinearRegression, Ridge, Lasso\n",
    "from sklearn.linear_model import LogisticRegression\n",
    "from sklearn.neighbors    import KNeighborsClassifier\n",
    "from sklearn.naive_bayes  import GaussianNB\n",
    "from sklearn.tree         import DecisionTreeRegressor, DecisionTreeClassifier, export_graphviz\n",
    "from sklearn.ensemble     import BaggingClassifier, RandomForestClassifier\n",
    "from sklearn.ensemble     import AdaBoostClassifier, GradientBoostingClassifier\n",
    "from sklearn.svm          import SVC\n",
    "\n",
    "import warnings\n",
    "warnings.filterwarnings('ignore')"
   ]
  },
  {
   "cell_type": "markdown",
   "metadata": {},
   "source": [
    "# Data Exploration and Cleaning"
   ]
  },
  {
   "cell_type": "code",
   "execution_count": 2,
   "metadata": {},
   "outputs": [],
   "source": [
    "df = pd.read_csv('water_potability.csv')"
   ]
  },
  {
   "cell_type": "markdown",
   "metadata": {},
   "source": [
    "### Raw Potability Histogram"
   ]
  },
  {
   "cell_type": "code",
   "execution_count": 3,
   "metadata": {},
   "outputs": [
    {
     "data": {
      "text/plain": [
       "(array([1998.,    0.,    0.,    0.,    0.,    0.,    0.,    0.,    0.,\n",
       "        1278.]),\n",
       " array([0. , 0.1, 0.2, 0.3, 0.4, 0.5, 0.6, 0.7, 0.8, 0.9, 1. ]),\n",
       " <BarContainer object of 10 artists>)"
      ]
     },
     "execution_count": 3,
     "metadata": {},
     "output_type": "execute_result"
    },
    {
     "data": {
      "image/png": "[encoded data removed]",
      "text/plain": [
       "<Figure size 432x288 with 1 Axes>"
      ]
     },
     "metadata": {
      "needs_background": "light"
     },
     "output_type": "display_data"
    }
   ],
   "source": [
    "plt.hist(df['Potability'])"
   ]
  },
  {
   "cell_type": "markdown",
   "metadata": {},
   "source": [
    "### Cleaning NaN values"
   ]
  },
  {
   "cell_type": "code",
   "execution_count": 4,
   "metadata": {},
   "outputs": [
    {
     "data": {
      "text/plain": [
       "ph                 491\n",
       "Hardness             0\n",
       "Solids               0\n",
       "Chloramines          0\n",
       "Sulfate            781\n",
       "Conductivity         0\n",
       "Organic_carbon       0\n",
       "Trihalomethanes    162\n",
       "Turbidity            0\n",
       "Potability           0\n",
       "dtype: int64"
      ]
     },
     "execution_count": 4,
     "metadata": {},
     "output_type": "execute_result"
    }
   ],
   "source": [
    "df.isna().sum()"
   ]
  },
  {
   "cell_type": "code",
   "execution_count": 5,
   "metadata": {},
   "outputs": [],
   "source": [
    "df1 = df.dropna()"
   ]
  },
  {
   "cell_type": "markdown",
   "metadata": {},
   "source": [
    "### Clean Potability Histogram"
   ]
  },
  {
   "cell_type": "code",
   "execution_count": 6,
   "metadata": {},
   "outputs": [
    {
     "data": {
      "text/plain": [
       "(array([1200.,    0.,    0.,    0.,    0.,    0.,    0.,    0.,    0.,\n",
       "         811.]),\n",
       " array([0. , 0.1, 0.2, 0.3, 0.4, 0.5, 0.6, 0.7, 0.8, 0.9, 1. ]),\n",
       " <BarContainer object of 10 artists>)"
      ]
     },
     "execution_count": 6,
     "metadata": {},
     "output_type": "execute_result"
    },
    {
     "data": {
      "image/png": "[encoded data removed]",
      "text/plain": [
       "<Figure size 432x288 with 1 Axes>"
      ]
     },
     "metadata": {
      "needs_background": "light"
     },
     "output_type": "display_data"
    }
   ],
   "source": [
    "plt.hist(df1['Potability'])"
   ]
  },
  {
   "cell_type": "markdown",
   "metadata": {},
   "source": [
    "# Data Instantiation"
   ]
  },
  {
   "cell_type": "code",
   "execution_count": 7,
   "metadata": {},
   "outputs": [],
   "source": [
    "X = df1.drop(columns=['Potability'], axis=1)\n",
    "y = df1['Potability']"
   ]
  },
  {
   "cell_type": "markdown",
   "metadata": {},
   "source": [
    "# Model Instantiation"
   ]
  },
  {
   "cell_type": "markdown",
   "metadata": {},
   "source": [
    "## Gaussian Naive Bayes"
   ]
  },
  {
   "cell_type": "code",
   "execution_count": 8,
   "metadata": {},
   "outputs": [],
   "source": [
    "#model = GaussianNB()\n",
    "#model = BaggingClassifier(GaussianNB())\n",
    "#model = AdaBoostClassifier(GaussianNB())"
   ]
  },
  {
   "cell_type": "markdown",
   "metadata": {},
   "source": [
    "## KNeighbors Classifier"
   ]
  },
  {
   "cell_type": "code",
   "execution_count": 9,
   "metadata": {},
   "outputs": [],
   "source": [
    "#model = KNeighborsClassifier()\n",
    "#knc_grid   = {'n_neighbors': [1, 2, 3, 4, 5], 'weights': ['uniform', 'distance']}\n",
    "#model      = GridSearchCV(KNeighborsClassifier(), knc_grid, scoring='accuracy', verbose=1)\n",
    "#model      = AdaBoostClassifier(KNeighborsClassifier())"
   ]
  },
  {
   "cell_type": "markdown",
   "metadata": {},
   "source": [
    "## Logistic Regression"
   ]
  },
  {
   "cell_type": "code",
   "execution_count": 10,
   "metadata": {},
   "outputs": [],
   "source": [
    "#model = LogisticRegression(fit_intercept = False, C = 1e12, solver='lbfgs', multi_class='auto')\n",
    "#logreg_grid = {'C': [1, 2, 3], 'solver': [‘newton-cg’, ‘lbfgs’, ‘liblinear’, ‘sag’, ‘saga’]}\n",
    "#model       = GridSearchCV(LogisticRegression(), logreg_grid, scoring='accuracy', verbose=1)"
   ]
  },
  {
   "cell_type": "markdown",
   "metadata": {},
   "source": [
    "## Decision Tree Classifier"
   ]
  },
  {
   "cell_type": "code",
   "execution_count": 11,
   "metadata": {},
   "outputs": [],
   "source": [
    "#model = DecisionTreeClassifier()\n",
    "#dtc_grid = {'criterion': ['gini', 'entropy'], 'max_depth':[1, 2, 3, 4, 5]}\n",
    "#model    = GridSearchCV(DecisionTreeClassifier(), dtc_grid, scoring='accuracy', verbose=1)"
   ]
  },
  {
   "cell_type": "markdown",
   "metadata": {},
   "source": [
    "## Bagging Classifier"
   ]
  },
  {
   "cell_type": "code",
   "execution_count": 12,
   "metadata": {},
   "outputs": [],
   "source": [
    "#model = BaggingClassifier()\n",
    "#bc_grid = {'n_estimators': [10, 20, 30, 40, 50], 'oob_score':['True', 'False']}\n",
    "#model   = GridSearchCV(BaggingClassifier(), bc_grid, scoring='accuracy', verbose=1)"
   ]
  },
  {
   "cell_type": "markdown",
   "metadata": {},
   "source": [
    "## Random Forest Classifier"
   ]
  },
  {
   "cell_type": "code",
   "execution_count": 13,
   "metadata": {},
   "outputs": [],
   "source": [
    "#model = RandomForestClassifier()\n",
    "#rfc_grid = {'n_estimators': [100, 200], 'criterion':['gini', 'entropy'], \n",
    "#            'oob_score':['True', 'False'], 'max_depth': [3, 4, 5, 6, 7, 8]}\n",
    "#model    = GridSearchCV(RandomForestClassifier(), rfc_grid, scoring='accuracy', verbose=1)"
   ]
  },
  {
   "cell_type": "markdown",
   "metadata": {},
   "source": [
    "## Adaptive Boosting Classifier"
   ]
  },
  {
   "cell_type": "code",
   "execution_count": 14,
   "metadata": {},
   "outputs": [],
   "source": [
    "#model = AdaBoostClassifier()"
   ]
  },
  {
   "cell_type": "markdown",
   "metadata": {},
   "source": [
    "## Gradient Boosting Classifier"
   ]
  },
  {
   "cell_type": "code",
   "execution_count": 15,
   "metadata": {},
   "outputs": [],
   "source": [
    "#model = GradientBoostingClassifier()"
   ]
  },
  {
   "cell_type": "markdown",
   "metadata": {},
   "source": [
    "## Support Vector Classification"
   ]
  },
  {
   "cell_type": "code",
   "execution_count": 16,
   "metadata": {},
   "outputs": [],
   "source": [
    "#model = SVC()\n",
    "#svc_grid = {'C': [1, 2, 3], 'kernel': [‘linear’, ‘poly’, ‘rbf’, ‘sigmoid’, ‘precomputed’]}\n",
    "#model    = GridSearchCV(SVC(), svc_grid, scoring='accuracy', verbose=1)"
   ]
  },
  {
   "cell_type": "markdown",
   "metadata": {},
   "source": [
    "# Model Function"
   ]
  },
  {
   "cell_type": "code",
   "execution_count": 17,
   "metadata": {},
   "outputs": [],
   "source": [
    "def ds_models(model, X, y, model_name, output, scale=False, clean=False, fi=False, tree=False, cvs=False, vc=False):\n",
    "    \n",
    "    X_train, X_test, y_train, y_test = train_test_split(X, y, \n",
    "                                                        test_size=0.25, random_state=1)\n",
    "        \n",
    "    if scale == True:\n",
    "        \n",
    "        scaler  = StandardScaler()  \n",
    "        scaler.fit(X_train)\n",
    "        X_train = scaler.transform(X_train)  \n",
    "        X_test  = scaler.transform(X_test) \n",
    "        \n",
    "    if clean == True:\n",
    "    \n",
    "        cont_features = [col for col in X.columns if X[col].dtype in [np.float64, np.int64]]        \n",
    "        X_train_cont  = X_train.loc[:, cont_features]\n",
    "        X_test_cont   = X_test.loc[:, cont_features]\n",
    "        \n",
    "        impute          = SimpleImputer(strategy='median') \n",
    "        X_train_imputed = impute.fit_transform(X_train_cont)\n",
    "        X_test_imputed  = impute.transform(X_test_cont)\n",
    "        \n",
    "        features_cat = [col for col in X.columns if X[col].dtype in [np.object]]\n",
    "        X_train_cat  = X_train.loc[:, features_cat]\n",
    "        X_test_cat   = X_test.loc[:, features_cat]\n",
    "        \n",
    "        X_train_cat.fillna(value='missing', inplace=True)\n",
    "        X_test_cat.fillna(value='missing', inplace=True)\n",
    "        \n",
    "        scaler                 = StandardScaler()\n",
    "        X_train_imputed_scaled = scaler.fit_transform(X_train_imputed)\n",
    "        X_test_imputed_scaled  = scaler.transform(X_test_imputed)\n",
    "        \n",
    "        ohe         = OneHotEncoder(handle_unknown='ignore')\n",
    "        X_train_ohe = ohe.fit_transform(X_train_cat)\n",
    "        X_test_ohe  = ohe.transform(X_test_cat)\n",
    "\n",
    "        columns      = ohe.get_feature_names(input_features=X_train_cat.columns)\n",
    "        cat_train_df = pd.DataFrame(X_train_ohe.todense(), columns=columns)\n",
    "        cat_test_df  = pd.DataFrame(X_test_ohe.todense(), columns=columns)\n",
    "                                    \n",
    "        X_train     = pd.concat([pd.DataFrame(X_train_imputed_scaled), cat_train_df], axis=1)\n",
    "        X_test_all  = pd.concat([pd.DataFrame(X_test_imputed_scaled), cat_test_df], axis=1)\n",
    "    \n",
    "    model.fit(X_train, y_train)\n",
    "        \n",
    "    if output == 'class':\n",
    "                \n",
    "        print('\\033[1m' + model_name + ' Train Data Confusion Matrix:\\n')\n",
    "        plot_confusion_matrix(model, X_train, y_train, cmap=plt.cm.Blues)\n",
    "        plt.show()\n",
    "        print('\\033[1m' + model_name + ' Test Data Confusion Matrix:\\n')\n",
    "        plot_confusion_matrix(model, X_test, y_test, cmap=plt.cm.Blues)\n",
    "        plt.show()        \n",
    "        print('\\033[1m' + model_name + ' Train Report:\\n' + '\\033[0m')\n",
    "        print(classification_report(y_train, model.predict(X_train)))\n",
    "        print('\\033[1m' + model_name + ' Test Report:\\n' + '\\033[0m')\n",
    "        print(classification_report(y_test, model.predict(X_test)))\n",
    "    \n",
    "    if output == 'reg':\n",
    "                        \n",
    "        print('\\033[1m' + model_name + ' Training r^2:\\n' + '\\033[0m', \n",
    "        model.score(X_train, y_train))\n",
    "        print('\\n' + '\\033[1m' + model_name + ' Test r^2:\\n' + '\\033[0m', \n",
    "        model.score(X_test_all, y_test))\n",
    "        print('\\n' + '\\033[1m' + model_name + ' Training MSE:\\n' + '\\033[0m', \n",
    "        mean_squared_error(y_train, model.predict(X_train)))\n",
    "        print('\\n' + '\\033[1m' + model_name + ' Test MSE:\\n' + '\\033[0m', \n",
    "        mean_squared_error(y_test, model.predict(X_test_all)))\n",
    "        print('\\n' + '\\033[1m' + model_name + ' Training RMSE:\\n' + '\\033[0m', \n",
    "        mean_squared_error(y_train, model.predict(X_train))**0.5)\n",
    "        print('\\n' + '\\033[1m' + model_name + ' Test RMSE:\\n' + '\\033[0m', \n",
    "        mean_squared_error(y_test, model.predict(X_test_all))**0.5)\n",
    "        \n",
    "    if fi == True:\n",
    "        \n",
    "        print('\\033[1m' + 'Feature Importances:' + '\\n' + '\\033[0m')\n",
    "        print(model.feature_importances_)\n",
    "        plt.barh(X.columns, model.feature_importances_)\n",
    "        plt.title('Feature Importances')\n",
    "        \n",
    "    if tree == True:         \n",
    "\n",
    "        dot_data = StringIO()\n",
    "        export_graphviz(model, out_file=dot_data, rounded=True, special_characters=True)\n",
    "        graph    = pydotplus.graph_from_dot_data(dot_data.getvalue())\n",
    "        print('\\n' + '\\033[1m' + 'Decision Tree:' + '\\033[0m')\n",
    "        display(Image(graph.create_png()))\n",
    "        \n",
    "    if cvs == True:\n",
    "\n",
    "        depth_range = range(1,10)\n",
    "        val = []\n",
    "        for depth in depth_range:\n",
    "            mod = DecisionTreeClassifier(max_depth = depth)\n",
    "            depth_score = cross_val_score(mod, X, y, cv = 10)\n",
    "            val.append(depth_score.mean())\n",
    "        print('\\n' + '\\033[1m' + 'Cross Validation Scores:' + '\\n' + '\\033[0m')\n",
    "        print(val)\n",
    "        print('\\n' + '\\033[1m' + 'Cross Validation Curve:' + '\\n' + '\\033[0m')\n",
    "        plt.figure(figsize = (10,10))\n",
    "        plt.plot(depth_range, val)\n",
    "        plt.xlabel('Range Of Depth')\n",
    "        plt.ylabel('Cross Validated Values')\n",
    "        plt.show()\n",
    "        \n",
    "    if vc == True:\n",
    "        \n",
    "        depth_range = range(1,10)\n",
    "        mse = []\n",
    "        for depth in depth_range:\n",
    "            mod = DecisionTreeRegressor(max_depth = depth)\n",
    "            depth_score = cross_val_score(mod, X, y, scoring = 'neg_mean_squared_error', cv = 6)\n",
    "            mse.append(depth_score.mean())\n",
    "        print('\\n' + '\\033[1m' + 'MSE:' + '\\n' + '\\033[0m')\n",
    "        print(mse)\n",
    "        print('\\n' + '\\033[1m' + 'Validation Curve:' + '\\n' + '\\033[0m')\n",
    "        mse = [abs(number) for number in mse]\n",
    "        plt.figure(figsize = (10,10))\n",
    "        plt.plot(depth_range, mse)\n",
    "        plt.xlabel('Range Of Depth')\n",
    "        plt.ylabel('MSE')\n",
    "        plt.show()\n",
    "        \n",
    "    return model\n"
   ]
  },
  {
   "cell_type": "markdown",
   "metadata": {},
   "source": [
    "# Testing "
   ]
  },
  {
   "cell_type": "markdown",
   "metadata": {},
   "source": [
    "### Gaussian Naive Bayes - Vanilla"
   ]
  },
  {
   "cell_type": "code",
   "execution_count": 18,
   "metadata": {},
   "outputs": [],
   "source": [
    "#model = GaussianNB()\n",
    "\n",
    "#gnb = ds_models(model, X, y, model_name='Gaussian Naive Bayes - Vanilla', output='class')"
   ]
  },
  {
   "cell_type": "markdown",
   "metadata": {},
   "source": [
    "### KNeighbors Classifier - Vanilla"
   ]
  },
  {
   "cell_type": "code",
   "execution_count": 19,
   "metadata": {},
   "outputs": [],
   "source": [
    "#model = KNeighborsClassifier()\n",
    "\n",
    "#knc = ds_models(model, X, y, model_name='KNeighbors Classifier - Vanilla', output='class')"
   ]
  },
  {
   "cell_type": "markdown",
   "metadata": {},
   "source": [
    "### Logistic Regression - Vanilla"
   ]
  },
  {
   "cell_type": "code",
   "execution_count": 20,
   "metadata": {},
   "outputs": [],
   "source": [
    "#model = LogisticRegression(fit_intercept = False, C = 1e12, solver='lbfgs', multi_class='auto')\n",
    "\n",
    "#lrc = ds_models(model, X, y, model_name='Logistic Regression - Vanilla', output='class')"
   ]
  },
  {
   "cell_type": "markdown",
   "metadata": {},
   "source": [
    "### Decision Tree Classifier - Vanilla"
   ]
  },
  {
   "cell_type": "code",
   "execution_count": 21,
   "metadata": {},
   "outputs": [],
   "source": [
    "#model = DecisionTreeClassifier()\n",
    "\n",
    "#dtc = ds_models(model, X, y, model_name='Decision Tree Classifier - Vanilla', output='class', fi=True)"
   ]
  },
  {
   "cell_type": "markdown",
   "metadata": {},
   "source": [
    "### Bagging Classifier - Vanilla"
   ]
  },
  {
   "cell_type": "code",
   "execution_count": 22,
   "metadata": {},
   "outputs": [],
   "source": [
    "#model = BaggingClassifier()\n",
    "\n",
    "#bc = ds_models(model, X, y, model_name='Bagging Classifier - Vanilla', output='class')"
   ]
  },
  {
   "cell_type": "markdown",
   "metadata": {},
   "source": [
    "### Random Forest Classifier - Vanilla"
   ]
  },
  {
   "cell_type": "code",
   "execution_count": 23,
   "metadata": {},
   "outputs": [],
   "source": [
    "#model = RandomForestClassifier()\n",
    "\n",
    "#rfc = ds_models(model, X, y, model_name='Randmon Forest Classifier - Vanilla', output='class', fi=True)"
   ]
  },
  {
   "cell_type": "markdown",
   "metadata": {},
   "source": [
    "### Adaptive Boosting Classifier - Vanilla"
   ]
  },
  {
   "cell_type": "code",
   "execution_count": 24,
   "metadata": {},
   "outputs": [],
   "source": [
    "#model = AdaBoostClassifier()\n",
    "\n",
    "#abc = ds_models(model, X, y, model_name='Adaptive Boosting Classifier - Vanilla', output='class', fi=True)"
   ]
  },
  {
   "cell_type": "markdown",
   "metadata": {},
   "source": [
    "### Gradient Boosting Classifier - Vanilla"
   ]
  },
  {
   "cell_type": "code",
   "execution_count": 25,
   "metadata": {},
   "outputs": [],
   "source": [
    "#model = GradientBoostingClassifier()\n",
    "\n",
    "#gbc = ds_models(model, X, y, model_name='Gradient Boosting Classifier - Vanilla', output='class', fi=True)"
   ]
  },
  {
   "cell_type": "markdown",
   "metadata": {},
   "source": [
    "### Support Vector Classification - Vanilla"
   ]
  },
  {
   "cell_type": "code",
   "execution_count": 26,
   "metadata": {
    "collapsed": true
   },
   "outputs": [
    {
     "name": "stdout",
     "output_type": "stream",
     "text": [
      "\u001b[1mSupport Vector Classification - Vanilla Train Data Confusion Matrix:\n",
      "\n"
     ]
    },
    {
     "data": {
      "image/png": "[encoded data removed]",
      "text/plain": [
       "<Figure size 432x288 with 2 Axes>"
      ]
     },
     "metadata": {
      "needs_background": "light"
     },
     "output_type": "display_data"
    },
    {
     "name": "stdout",
     "output_type": "stream",
     "text": [
      "\u001b[1mSupport Vector Classification - Vanilla Test Data Confusion Matrix:\n",
      "\n"
     ]
    },
    {
     "data": {
      "image/png": "[encoded data removed]",
      "text/plain": [
       "<Figure size 432x288 with 2 Axes>"
      ]
     },
     "metadata": {
      "needs_background": "light"
     },
     "output_type": "display_data"
    },
    {
     "name": "stdout",
     "output_type": "stream",
     "text": [
      "\u001b[1mSupport Vector Classification - Vanilla Train Report:\n",
      "\u001b[0m\n",
      "              precision    recall  f1-score   support\n",
      "\n",
      "           0       0.59      1.00      0.74       891\n",
      "           1       0.00      0.00      0.00       617\n",
      "\n",
      "    accuracy                           0.59      1508\n",
      "   macro avg       0.30      0.50      0.37      1508\n",
      "weighted avg       0.35      0.59      0.44      1508\n",
      "\n",
      "\u001b[1mSupport Vector Classification - Vanilla Test Report:\n",
      "\u001b[0m\n",
      "              precision    recall  f1-score   support\n",
      "\n",
      "           0       0.61      1.00      0.76       309\n",
      "           1       0.00      0.00      0.00       194\n",
      "\n",
      "    accuracy                           0.61       503\n",
      "   macro avg       0.31      0.50      0.38       503\n",
      "weighted avg       0.38      0.61      0.47       503\n",
      "\n"
     ]
    }
   ],
   "source": [
    "#model = SVC()\n",
    "\n",
    "#svc = ds_models(model, X, y, model_name='Support Vector Classification - Vanilla', output='class')"
   ]
  }
 ],
 "metadata": {
  "kernelspec": {
   "display_name": "Python 3",
   "language": "python",
   "name": "python3"
  },
  "language_info": {
   "codemirror_mode": {
    "name": "ipython",
    "version": 3
   },
   "file_extension": ".py",
   "mimetype": "text/x-python",
   "name": "python",
   "nbconvert_exporter": "python",
   "pygments_lexer": "ipython3",
   "version": "3.8.5"
  }
 },
 "nbformat": 4,
 "nbformat_minor": 4
}
